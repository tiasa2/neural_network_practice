{
  "nbformat": 4,
  "nbformat_minor": 0,
  "metadata": {
    "colab": {
      "name": "Copy of Quiz 4.ipynb",
      "provenance": [],
      "collapsed_sections": []
    },
    "kernelspec": {
      "name": "python3",
      "display_name": "Python 3"
    }
  },
  "cells": [
    {
      "cell_type": "markdown",
      "metadata": {
        "id": "bSbDfGN3jicM",
        "colab_type": "text"
      },
      "source": [
        "##1"
      ]
    },
    {
      "cell_type": "markdown",
      "metadata": {
        "id": "R5Lhc-jAjoQ8",
        "colab_type": "text"
      },
      "source": [
        "###Q. Confusion Matrix\n",
        "Write a function that takes two 1-d numpy arrays $y$ and $yd$ as inputs and returns two outputs - confusion matrix as a 2-d numpy array and order of classes in the confusion matrix as a 1-d numpy array. \n",
        "\n",
        "<img src=\"https://drive.google.com/uc?id=1TfOYFOGMH91b_tewl6RzEgYYxaxThYLb\" width = \"400\">\n",
        "\n",
        " <br>\n",
        "For eg., <br>\n",
        "$y$ = ['cat', 'cat', 'dog', 'human', 'human', 'human'] <br>\n",
        "$yd$ = ['cat', 'dog', 'dog', 'dog', 'cat', 'human']\n",
        "\n",
        "\n",
        "```confusion_matrix($y$, $yd$)``` -> ```([[1, 0, 1], [1, 1, 1], [0, 0, 1]], ['cat', 'dog', 'human'])``` <br>\n",
        "\n",
        "In the above example, the order of classes in the confusion matrix is cat, dog, human. (Consider list of unique classes in $yd$ as list of all classes)"
      ]
    },
    {
      "cell_type": "code",
      "metadata": {
        "id": "BVHaw2mpjn_b",
        "colab_type": "code",
        "colab": {}
      },
      "source": [
        "import numpy as np\n",
        "def confusion_matrix(y, yd):\n",
        "  \"\"\"\n",
        "  Inputs:\n",
        "    y : 1-d numpy array, model outputs\n",
        "    yd: 1-d numpy array, desired outputs or ground truth\n",
        "  Outputs:\n",
        "    cm: 2-d numpy array of shape (N, N) where N is number of unique classes in yd\n",
        "    classes: 1-d numpy array, unique classes in the order in which they occur in cm\n",
        "  \"\"\"\n",
        "  ar=[]\n",
        "  a=[]\n",
        "  for k in yd:\n",
        "    if k not in a:\n",
        "      a.append(k)\n",
        "  ar=np.array(ar)\n",
        "  a=np.array(a)\n",
        "  y=np.array(y)\n",
        "  yd=np.array(yd)\n",
        "  x=len(a)\n",
        "  ar=np.zeros((x,x))\n",
        "  for i in range(0,len(y)):\n",
        "    if (yd[i]==y[i]):\n",
        "      for j in range(0,len(a)):\n",
        "        if (a[j]==yd[i]):\n",
        "          ar[j,j]+=1\n",
        "    else:\n",
        "      for j in range(0,len(a)):\n",
        "        for m in range(0,len(a)):\n",
        "          if(a[j]==yd[i] and a[m]==y[i]):\n",
        "            ar[j,m]+=1      \n",
        "  return (ar,a)\n",
        "  \n"
      ],
      "execution_count": null,
      "outputs": []
    },
    {
      "cell_type": "markdown",
      "metadata": {
        "id": "X9RgacqNk1ma",
        "colab_type": "text"
      },
      "source": [
        "##2"
      ]
    },
    {
      "cell_type": "markdown",
      "metadata": {
        "id": "8vkKyIfuk4DY",
        "colab_type": "text"
      },
      "source": [
        "###Q. Max F1 score\n",
        "Write a function that takes a confusion matrix as input and returns index of the class with the maximum f1 score."
      ]
    },
    {
      "cell_type": "code",
      "metadata": {
        "id": "_kvRy5-Ljh_N",
        "colab_type": "code",
        "colab": {}
      },
      "source": [
        "import numpy as np\n",
        "def max_f1_score(cm):\n",
        "  \"\"\"\n",
        "  Inputs:\n",
        "    cm : confusion matrix, 2-d numpy array\n",
        "  Outputs:\n",
        "    integer, index of class with max f1 score\n",
        "  \"\"\"\n",
        "  cm=np.array(cm)\n",
        "  total_pred_pos=0\n",
        "  total_act_pos=0\n",
        "  ar_f1=[]\n",
        "  for i in range(0,len(cm)):\n",
        "    for j in range(0,len(cm)):\n",
        "      total_pred_pos+=cm[j,i]\n",
        "      true_pos=cm[i,i]\n",
        "      total_act_pos+=cm[i,j]\n",
        "    precision=true_pos/total_pred_pos\n",
        "    recall=true_pos/total_act_pos\n",
        "    f1=2*precision*recall/(precision+recall)\n",
        "    ar_f1.append(f1)\n",
        "    total_pred_pos=0\n",
        "    total_act_pos=0\n",
        "  for k in range(0,len(ar_f1)):\n",
        "    if(ar_f1[k]==max(ar_f1)):\n",
        "      return k\n"
      ],
      "execution_count": null,
      "outputs": []
    },
    {
      "cell_type": "markdown",
      "metadata": {
        "id": "wKl_xV0nk8s8",
        "colab_type": "text"
      },
      "source": [
        "##3"
      ]
    },
    {
      "cell_type": "markdown",
      "metadata": {
        "id": "XtUKzpmon4P9",
        "colab_type": "text"
      },
      "source": [
        "###Q. Most confused class\n",
        "Write a function that takes a confusion matrix as input and returns index of the class that occurs most frequently as the result of a misclassification. <br>\n",
        "For eg., if $a$ is the correct class of a sample but model misclassifies it as $c$ in two cases. <br>\n",
        "And in another case, $b$ is the correct class of a sample but the model misclassifies it as $c$. <br>\n",
        "So in this way $c$ has occurred 3 times as the result of misclassification. <br>\n"
      ]
    },
    {
      "cell_type": "code",
      "metadata": {
        "id": "6MMW0Q8Swhl2",
        "colab_type": "code",
        "colab": {}
      },
      "source": [
        "import numpy as np\n",
        "def most_confused_class(cm):\n",
        "  \"\"\"\n",
        "  Inputs:\n",
        "    cm : confusion matrix, 2-d numpy array\n",
        "  Outputs:\n",
        "    integer, index of class which is most confused\n",
        "  \"\"\"\n",
        "  cm=np.array(cm)\n",
        "  sum=0\n",
        "  a=[]\n",
        "  for i in range(0,cm.shape[1]):\n",
        "    for j in range(0,cm.shape[0]):\n",
        "      if(i!=j):\n",
        "        sum+=cm[j,i]\n",
        "    a.append(sum)\n",
        "    sum=0\n",
        "  for k in range(0,len(a)):\n",
        "    if(a[k]==max(a)):\n",
        "      return k\n",
        "\n"
      ],
      "execution_count": null,
      "outputs": []
    },
    {
      "cell_type": "markdown",
      "metadata": {
        "id": "z4Ymvthkmfpq",
        "colab_type": "text"
      },
      "source": [
        "## 4"
      ]
    },
    {
      "cell_type": "markdown",
      "metadata": {
        "id": "JAQGwMjkk-fp",
        "colab_type": "text"
      },
      "source": [
        "###Q. MSE\n",
        "Write a function that takes two 1-d numpy arrays ($y$ and $yd$) and returns the mean squared error, defined as \n",
        "$$\n",
        "mse = \\frac{1}{N}\\sum_{i=1}^{N}{(yd_i - y_i)^2}\n",
        "$$ "
      ]
    },
    {
      "cell_type": "code",
      "metadata": {
        "id": "hvu_53FBmgvA",
        "colab_type": "code",
        "colab": {}
      },
      "source": [
        "import numpy as np\n",
        "def mse(y, yd):\n",
        "  \"\"\"\n",
        "  Inputs:\n",
        "    y: 1-d Numpy array of floats\n",
        "    yd: 1-d Numpy array of floats\n",
        "  Outputs:\n",
        "    mse: float, mean squared error\n",
        "  \"\"\"\n",
        "  n=len(y)\n",
        "  yd=np.array(yd)\n",
        "  y=np.array(y)\n",
        "  diff_sum=0\n",
        "  for i in range(0,n):\n",
        "    diff_sum+=((yd[i]-y[i])**2)\n",
        "  return (diff_sum/n)\n"
      ],
      "execution_count": null,
      "outputs": []
    },
    {
      "cell_type": "markdown",
      "metadata": {
        "id": "aFPcPG0anFdj",
        "colab_type": "text"
      },
      "source": [
        "##5"
      ]
    },
    {
      "cell_type": "markdown",
      "metadata": {
        "id": "HgSaxXjwmuYn",
        "colab_type": "text"
      },
      "source": [
        "###Q. Fraction of MSE\n",
        "Write a function that takes two 1-d numpy arrays ($y$ and $yd$) and does the following - \n",
        "- It computes the  $\\text{total squared error}$ first. ($\\text{total squared error } = mse*N$) \n",
        "- It computes total squared error of the 20% of samples contributing most toward the $\\text{total squared error}$ which is $\\text{tot_20}$\n",
        "- It returns the fraction $\\frac{\\text{tot_20}}{\\text{total squared error}}$"
      ]
    },
    {
      "cell_type": "code",
      "metadata": {
        "id": "BpMpqBa9m4RM",
        "colab_type": "code",
        "colab": {}
      },
      "source": [
        "def fraction_mse_20(y, yd):\n",
        "  \"\"\"\n",
        "  Inputs:\n",
        "    y: 1-d Numpy array of floats\n",
        "    yd: 1-d Numpy array of floats\n",
        "  Outputs:\n",
        "    float, tot_20/total_squared_error\n",
        "  \"\"\" \n",
        "  n=len(y)\n",
        "  yd=np.array(yd)\n",
        "  y=np.array(y)\n",
        "  a=[]\n",
        "  tot_20=0\n",
        "  total_squared_error=0\n",
        "  for i in range(0,n):\n",
        "    total_squared_error+=((yd[i]-y[i])**2)\n",
        "    a.append((yd[i]-y[i])**2)\n",
        "  no_of_samples_top_20=.2*n\n",
        "  a=np.array(a)\n",
        "  sort=np.sort(a)\n",
        "  for i in range(0,int(no_of_samples_top_20)):\n",
        "    tot_20+=sort[n-i-1]\n",
        "  return (tot_20/total_squared_error)\n",
        "\n"
      ],
      "execution_count": null,
      "outputs": []
    }
  ]
}