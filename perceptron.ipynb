{
  "nbformat": 4,
  "nbformat_minor": 0,
  "metadata": {
    "colab": {
      "name": "extraQuiz 7.ipynb",
      "provenance": [],
      "collapsed_sections": []
    },
    "language_info": {
      "codemirror_mode": {
        "name": "ipython",
        "version": 3
      },
      "file_extension": ".py",
      "mimetype": "text/x-python",
      "name": "python",
      "nbconvert_exporter": "python",
      "pygments_lexer": "ipython3",
      "version": "3.6.8"
    },
    "kernelspec": {
      "display_name": "Python 3",
      "language": "python",
      "name": "python3"
    }
  },
  "cells": [
    {
      "cell_type": "markdown",
      "metadata": {
        "id": "vqDlulbcMSrE",
        "colab_type": "text"
      },
      "source": [
        "### Note:\n",
        "- The test cases here only check that type of output that you are returning is correct. They don't check whether the values that you are returning are actually correct. "
      ]
    },
    {
      "cell_type": "markdown",
      "metadata": {
        "id": "IGpNK5uo9nn9",
        "colab_type": "text"
      },
      "source": [
        "## Perceptron Algorithm\n",
        "In this quiz, we are going to implement the perceptron learning algorithm which was discussed in class. (Refer to reference videos of Prof Behera)"
      ]
    },
    {
      "cell_type": "code",
      "metadata": {
        "id": "NBhwI8oMn34M",
        "colab_type": "code",
        "colab": {}
      },
      "source": [
        "import numpy as np\n",
        "import math as mt"
      ],
      "execution_count": null,
      "outputs": []
    },
    {
      "cell_type": "markdown",
      "metadata": {
        "id": "WXiXXDQxn34R",
        "colab_type": "text"
      },
      "source": [
        "### Generate data\n",
        "Generate random points in two circles like this. <br>\n",
        "<img src = \"https://drive.google.com/uc?id=17doTxsW980SXmJwFrmZe93VKG6hzF2hc\">"
      ]
    },
    {
      "cell_type": "markdown",
      "metadata": {
        "id": "whEARUEF91Qz",
        "colab_type": "text"
      },
      "source": [
        "##1"
      ]
    },
    {
      "cell_type": "markdown",
      "metadata": {
        "id": "aTI6R-tFn34S",
        "colab_type": "text"
      },
      "source": [
        "### Random points in circle\n",
        "Write a function that takes as parameters center - $c$, radius - $r$ and number ($n$) of random points and returns an array of $n$ random points in circle with center $c$ and radius $r$."
      ]
    },
    {
      "cell_type": "code",
      "metadata": {
        "id": "Gbs97vGRn34S",
        "colab_type": "code",
        "colab": {}
      },
      "source": [
        "def rand_points_in_circle(c, r, n):\n",
        "    \"\"\"\n",
        "    Inputs:\n",
        "        c: tuple of floats of length 2, co-ordinates of the center of circle\n",
        "        r: float, radius of circle\n",
        "        n: int, number of random points to generate\n",
        "    Outputs:\n",
        "        points: numpy array of shape (n, 2) with random points from circle \n",
        "    \"\"\"\n",
        "    x=[]\n",
        "    count=0\n",
        "    g=c[0]\n",
        "    f=c[1]\n",
        "    x=np.array(x)\n",
        "    x=np.zeros((n,2))\n",
        "    while(count<n):\n",
        "      i=np.random.uniform(g-r,g+r)\n",
        "      j=np.random.uniform(f-r,f+r)\n",
        "      if (mt.sqrt(((i-g)**2)+((j-f)**2))<r):\n",
        "        x[count,0]=i\n",
        "        x[count,1]=j\n",
        "        count+=1\n",
        "    return x\n",
        "  "
      ],
      "execution_count": null,
      "outputs": []
    },
    {
      "cell_type": "code",
      "metadata": {
        "id": "_AQsrCUp-PtR",
        "colab_type": "code",
        "colab": {
          "base_uri": "https://localhost:8080/",
          "height": 34
        },
        "outputId": "50223f92-2437-40e7-d88b-65e8c1a39102"
      },
      "source": [
        "\"\"\"Test Cases\"\"\"\n",
        "if __name__ == '__main__':\n",
        "  assert rand_points_in_circle((2., 2.), 3., 4).shape == (4, 2)\n",
        "  print('Test passed', '\\U0001F44D')"
      ],
      "execution_count": null,
      "outputs": [
        {
          "output_type": "stream",
          "text": [
            "Test passed 👍\n"
          ],
          "name": "stdout"
        }
      ]
    },
    {
      "cell_type": "markdown",
      "metadata": {
        "id": "wE645zoG_lt5",
        "colab_type": "text"
      },
      "source": [
        "##2"
      ]
    },
    {
      "cell_type": "markdown",
      "metadata": {
        "id": "Q_r_0quwn34W",
        "colab_type": "text"
      },
      "source": [
        "### Generate Data\n",
        "Use the rand_circle function to generate the $+$ and $-$ points. <br>\n",
        "The $y$ values corresponding to $+$ points will be $+1$ and $-$ points will be $-1$"
      ]
    },
    {
      "cell_type": "code",
      "metadata": {
        "id": "weTUE47Bn34X",
        "colab_type": "code",
        "colab": {}
      },
      "source": [
        "def gen_data(c1, r1, c2, r2, n):\n",
        "  \"\"\"\n",
        "  This function generates 2n points\n",
        "    - n random points in circle with center c1 and radius r1 - These are the + points, y value for these points is +1\n",
        "    - n random points in circle with center c2 and radius r2 - These are the - points, y value for these points is -1\n",
        "\n",
        "  Inputs:\n",
        "    c1 - tuple of floats of length 2, co-ordinates of center of circle-1\n",
        "    r1 - float, radius of circle-1\n",
        "    c2 - tuple of floats of length 2, co-ordinates of center of circle-2\n",
        "    r2 -  float, radius of circle-2\n",
        "    n - int, Number of points in each circle\n",
        "\n",
        "  Outputs:\n",
        "    X : numpy array of samples of shape (2n, 2)\n",
        "    y : numpy array of labels (+1/ -1) of shape (2n, )\n",
        "  \"\"\"\n",
        "  y=[]\n",
        "  X=[]\n",
        "  X=np.array(X)\n",
        "  X=np.append(rand_points_in_circle(c1,r1,n),rand_points_in_circle(c2,r2,n),axis=0)\n",
        "  for i in range (0,2*n):\n",
        "    if(i<n):\n",
        "      y.append(+1)\n",
        "    else:\n",
        "      y.append(-1)\n",
        "  y=np.array(y)\n",
        "  return X, y\n"
      ],
      "execution_count": null,
      "outputs": []
    },
    {
      "cell_type": "code",
      "metadata": {
        "id": "HbB6eRZEBwIn",
        "colab_type": "code",
        "colab": {
          "base_uri": "https://localhost:8080/",
          "height": 34
        },
        "outputId": "503d188a-ad89-4fc1-a7b6-85592e85d53a"
      },
      "source": [
        "\"\"\" Test Cases \"\"\"\n",
        "if __name__ == \"__main__\":\n",
        "  X, y = gen_data((1, 1), 2, (10, 10), 4, 10)\n",
        "  assert X.shape == (20, 2)\n",
        "  assert y.shape == (20, )\n",
        "  print('Test passed', '\\U0001F44D')"
      ],
      "execution_count": null,
      "outputs": [
        {
          "output_type": "stream",
          "text": [
            "Test passed 👍\n"
          ],
          "name": "stdout"
        }
      ]
    },
    {
      "cell_type": "markdown",
      "metadata": {
        "id": "dD5SwIo8Fzv2",
        "colab_type": "text"
      },
      "source": [
        "##3"
      ]
    },
    {
      "cell_type": "markdown",
      "metadata": {
        "id": "qAgOW0tsn34h",
        "colab_type": "text"
      },
      "source": [
        "### Create Perceptron model\n",
        "The perceptron model we shall use is defined as follows : <br>\n",
        "$$\n",
        "y_{pred} = \\text{Sign}(\\sum_{i=0}^{2}{w_i.x_i})\n",
        "$$\n",
        "where $\\text{Sign}$ is the sign function <br> \n",
        "$\\text{Sign}(x) = 1$ if $x>=0$ <br>\n",
        "$\\text{Sign}(x) = -1$ if $x<0$ <br>\n",
        "Also, <br>\n",
        "$x_0 = 1$ and $x_1$ and $x_2$ are the coordinates of the points. <br>\n",
        "$w_0$, $w_1$ and $w_2$ are parameters of our model.\n"
      ]
    },
    {
      "cell_type": "markdown",
      "metadata": {
        "id": "SjxZChcln34i",
        "colab_type": "text"
      },
      "source": [
        "####Perceptron Model\n",
        "Write a function that given the values of $\\bf w$ and $\\bf X$, applies the perceptron model and returns the predictions."
      ]
    },
    {
      "cell_type": "code",
      "metadata": {
        "id": "PjEXde4Tn34j",
        "colab_type": "code",
        "colab": {}
      },
      "source": [
        "def perceptron_predict(w, X):\n",
        "    \"\"\"\n",
        "    Inputs:\n",
        "        w: numpy array of shape (3, ), model weights\n",
        "        X: numpy array of shape (n, 2), sample points\n",
        "    \n",
        "    Outputs:\n",
        "        y_pred: numpy array of shape (n,) with values +1 / -1 obtained applying perceptron model to X\n",
        "    \"\"\"\n",
        "    y_pred=[]\n",
        "    for i in range(0,X.shape[0]):\n",
        "      x=w[0]*1+w[1]*X[i][0]+w[2]*X[i][1]\n",
        "      if(x>=0):\n",
        "        y_pred.append(1)\n",
        "      else:\n",
        "        y_pred.append(-1)\n",
        "    y_pred=np.array(y_pred)\n",
        "    return y_pred\n"
      ],
      "execution_count": null,
      "outputs": []
    },
    {
      "cell_type": "code",
      "metadata": {
        "id": "Mmwqw8-LFODi",
        "colab_type": "code",
        "colab": {
          "base_uri": "https://localhost:8080/",
          "height": 34
        },
        "outputId": "300c5df4-5adf-49a6-d2d0-997dd59d649c"
      },
      "source": [
        "\"\"\"Test cases\"\"\"\n",
        "if __name__ == '__main__':\n",
        "  y_pred = perceptron_predict(np.array([1, 2, 3]), np.arange(10).reshape(5, 2))\n",
        "  assert y_pred.shape == (5, )\n",
        "  print('Test passed', '\\U0001F44D')"
      ],
      "execution_count": null,
      "outputs": [
        {
          "output_type": "stream",
          "text": [
            "Test passed 👍\n"
          ],
          "name": "stdout"
        }
      ]
    },
    {
      "cell_type": "markdown",
      "metadata": {
        "id": "lTwS1brRF4u2",
        "colab_type": "text"
      },
      "source": [
        "##4"
      ]
    },
    {
      "cell_type": "markdown",
      "metadata": {
        "id": "jHz7dpz-n34m",
        "colab_type": "text"
      },
      "source": [
        "### Loss\n",
        "Our loss function is ```number of misclassified points```. <br>\n",
        "Write a function that takes as inputs $w$, $X$, $y_d$ and returns two values \n",
        " - number of misclassified points, ```n_wrong```\n",
        " - a random misclassified point ```x_wrong``` \n",
        " \n",
        "If number of misclassified points is 0, then ```x_wrong``` should be ```None```"
      ]
    },
    {
      "cell_type": "code",
      "metadata": {
        "id": "-PqRUWhzn34n",
        "colab_type": "code",
        "colab": {}
      },
      "source": [
        "\n",
        "def misclassified(X, yd, w):\n",
        "    \"\"\"\n",
        "    Inputs:\n",
        "        X : numpy array of shape (n, 2), sample points\n",
        "        yd : numpy array of shape (n,), true labels\n",
        "        w : numpy array of shape (3, ), model weights\n",
        "    Outputs:\n",
        "        n_wrong: int, number of misclassified points\n",
        "        x_wrong: numpy array of shape (2, ) - a misclassified point, None if n_wrong is 0\n",
        "    \"\"\"\n",
        "    X=np.array(X)\n",
        "    yd=np.array(yd)\n",
        "    w=np.array(w)\n",
        "    n_wrong=0\n",
        "    x_wrong_x=[]\n",
        "    x_wrong_y=[]\n",
        "    x_wrong=np.zeros((2,))\n",
        "    y_pred=perceptron_predict(w,X)\n",
        "    for i in range(0,yd.shape[0]):\n",
        "      if(y_pred[i]!=yd[i]):\n",
        "        n_wrong+=1\n",
        "        x_wrong_x.append(X[i][0])\n",
        "        x_wrong_y.append(X[i][1])\n",
        "    if(n_wrong==0):\n",
        "      x_wrong='None'\n",
        "    else:\n",
        "      x_wrong_x=np.array(x_wrong_x)\n",
        "      x_wrong_y=np.array(x_wrong_y)\n",
        "      i=np.random.randint(low=0,high=n_wrong,size=1)\n",
        "      x_wrong[0]=x_wrong_x[i]\n",
        "      x_wrong[1]=x_wrong_y[i]\n",
        "\n",
        "    return n_wrong, x_wrong"
      ],
      "execution_count": null,
      "outputs": []
    },
    {
      "cell_type": "code",
      "metadata": {
        "id": "tMZ93tOlIYb-",
        "colab_type": "code",
        "colab": {
          "base_uri": "https://localhost:8080/",
          "height": 34
        },
        "outputId": "1253d568-73a1-4a51-a6a7-ee990bc6ca12"
      },
      "source": [
        "\"\"\" Test Cases\"\"\"\n",
        "if __name__ == '__main__':\n",
        "  n_wrong, x_wrong = misclassified(np.arange(10).reshape(5, 2), np.array([-1]*5), np.ones(3))\n",
        "  assert n_wrong > 0\n",
        "  assert x_wrong.shape == (2, )\n",
        "  print('Test passed', '\\U0001F44D')"
      ],
      "execution_count": null,
      "outputs": [
        {
          "output_type": "stream",
          "text": [
            "Test passed 👍\n"
          ],
          "name": "stdout"
        }
      ]
    },
    {
      "cell_type": "markdown",
      "metadata": {
        "id": "uFATUfo_IWz9",
        "colab_type": "text"
      },
      "source": [
        "##5"
      ]
    },
    {
      "cell_type": "markdown",
      "metadata": {
        "id": "0N4xQymen34t",
        "colab_type": "text"
      },
      "source": [
        "### Training\n",
        "Apply perceptron learning algorithm and find parameters $w$ which perfectly separate the $+$ and $-$ points. <br>\n",
        "We shall use the following learning algorithm - <br>\n",
        "<br>\n",
        "- Start with random weights.\n",
        "- Do the following steps till all points are correctly classified:\n",
        "  - Pick a misclassified point $(x_i, yd_i)$ {$yd_i$ is true label corresponding to $x_i$}\n",
        "  - Update weights:\n",
        "$$\n",
        "w_{new} = w_{old} + yd_i.x_i \n",
        "$$"
      ]
    },
    {
      "cell_type": "code",
      "metadata": {
        "id": "xyfd0rQoAFJU",
        "colab_type": "code",
        "colab": {}
      },
      "source": [
        "def perceptron_train(X, y):\n",
        "  \"\"\"\n",
        "  This function trains the perceptron model starting from random weights.\n",
        "\n",
        "  Inputs:\n",
        "    X: numpy array of shape (n, 2) - sample points\n",
        "    y: numpy array of shape (n, ) - true labels\n",
        "  \n",
        "  Outputs:\n",
        "    w: numpy array of shape (3, ) - model parameters after training\n",
        "  \"\"\"\n",
        "  X=np.array(X)\n",
        "  y=np.array(y)\n",
        "  w=[np.random.random(),np.random.random(),np.random.random()]\n",
        "  n,m=misclassified(X, y, w)\n",
        "  for i in range(0,X.shape[0]):\n",
        "    if(X[i][0]==m[0] and X[i][1]==m[1]):\n",
        "      index=y[i]\n",
        "  while(n!=0):\n",
        "    m = [1,m[0],m[1]]\n",
        "    for k in range(0,3):\n",
        "      w[k]=w[k]+(index*m[k])\n",
        "    n,m=misclassified(X,y,w)\n",
        "    \n",
        "    for i in range(0,X.shape[0]):\n",
        "      if(X[i][0]==m[0] and X[i][1]==m[1]):\n",
        "        index=y[i]\n",
        "  return (w)\n",
        "   "
      ],
      "execution_count": null,
      "outputs": []
    }
  ]
}