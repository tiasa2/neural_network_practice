{
  "nbformat": 4,
  "nbformat_minor": 0,
  "metadata": {
    "colab": {
      "name": "Copy of Quiz 6.ipynb",
      "provenance": [],
      "collapsed_sections": []
    },
    "kernelspec": {
      "name": "python3",
      "display_name": "Python 3"
    }
  },
  "cells": [
    {
      "cell_type": "markdown",
      "metadata": {
        "id": "K9j4zEnj7YMX",
        "colab_type": "text"
      },
      "source": [
        "### IMPORTANT INSTRUCTIONS\n",
        "- The test cases only check type and structure of values returned by functions. So their correctness does not imply the correctness of your solutions.\n"
      ]
    },
    {
      "cell_type": "markdown",
      "metadata": {
        "id": "RtaUy7XwIrPV",
        "colab_type": "text"
      },
      "source": [
        "## Modelling $e^x$\n",
        "$y = f(x) = e^x$  \n",
        "\n",
        "Approximate this function with a linear function of the form\n",
        "$y = w_0 + w_1sin(\\frac{x*\\pi}{2}) + w_2sin(\\frac{2*x*\\pi}{2}) + w_3cos(\\frac{x*\\pi}{2}) + w_4cos(\\frac{2*x*\\pi}{2}) + \\ldots$\n",
        "\n",
        "in the range $x \\in (1, 3)$"
      ]
    },
    {
      "cell_type": "code",
      "metadata": {
        "id": "k0Sb-f1PKlua",
        "colab_type": "code",
        "colab": {}
      },
      "source": [
        "import numpy as np\n",
        "import matplotlib.pyplot as plt\n",
        "import math"
      ],
      "execution_count": null,
      "outputs": []
    },
    {
      "cell_type": "markdown",
      "metadata": {
        "id": "gBPneTJNKgIL",
        "colab_type": "text"
      },
      "source": [
        "##1. Generate Data\n"
      ]
    },
    {
      "cell_type": "markdown",
      "metadata": {
        "id": "P1W-atrtM-fU",
        "colab_type": "text"
      },
      "source": [
        "###1.1 \n",
        "Write a function that takes a parameter $x$ (float or array of floats) and computes $y = f(x) = e^x$ (float if $x$ is a float, array of floats if $x$ is array of floats)  "
      ]
    },
    {
      "cell_type": "code",
      "metadata": {
        "id": "iti0uCKfKamh",
        "colab_type": "code",
        "colab": {}
      },
      "source": [
        "def fx(x):\n",
        "  '''\n",
        "  Input:\n",
        "    x : float (scalar) or np array\n",
        "  Ouptut:\n",
        "    y : float (scalar) or np array\n",
        "\n",
        "  '''\n",
        "  y=np.exp(x)\n",
        "  return y\n"
      ],
      "execution_count": null,
      "outputs": []
    },
    {
      "cell_type": "code",
      "metadata": {
        "id": "dFE1rEcB70fU",
        "colab_type": "code",
        "colab": {
          "base_uri": "https://localhost:8080/",
          "height": 35
        },
        "outputId": "dd138126-06ab-4bf1-d149-b89e7fd4e5d5"
      },
      "source": [
        "\"\"\"Testing code\"\"\"\n",
        "if __name__ == \"__main__\":\n",
        "  y = fx(1.2)\n",
        "  assert y/y == 1.0\n",
        "  print(\"Test passed\")"
      ],
      "execution_count": null,
      "outputs": [
        {
          "output_type": "stream",
          "text": [
            "Test passed\n"
          ],
          "name": "stdout"
        }
      ]
    },
    {
      "cell_type": "markdown",
      "metadata": {
        "id": "sAcLccUhMmFU",
        "colab_type": "text"
      },
      "source": [
        "###1.2\n",
        "Write a function that takes a parameter $n$ and generates $n$ random points in the range $(1, 3)$ $\\rightarrow$ $x$ <br>\n",
        "Using ```fx``` defined earlier, it also generates $yd$ corresponding to these n points and returns both $x$ and $yd$"
      ]
    },
    {
      "cell_type": "code",
      "metadata": {
        "id": "YjIjtN2sNvSv",
        "colab_type": "code",
        "colab": {}
      },
      "source": [
        "def generate_points(n):\n",
        "  '''\n",
        "  Inputs:\n",
        "    n : int, Number of random points\n",
        "  \n",
        "  Outputs:\n",
        "    x : array of floats, random points in the range (1, 3)\n",
        "    yd : array of floats, e^x for values in x\n",
        "  '''\n",
        "  x=np.random.uniform(low=1.0,high=3.0,size=n)\n",
        "  yd=fx(x)\n",
        "  return x, yd"
      ],
      "execution_count": null,
      "outputs": []
    },
    {
      "cell_type": "code",
      "metadata": {
        "id": "7otzDFJY8Bz4",
        "colab_type": "code",
        "colab": {
          "base_uri": "https://localhost:8080/",
          "height": 35
        },
        "outputId": "e0b2b83d-397a-4c89-df78-5f6bdbab7111"
      },
      "source": [
        "\"\"\"Testing code\"\"\"\n",
        "if __name__ == \"__main__\":\n",
        "  x, yd = generate_points(10)\n",
        "  assert x.shape == (10, )\n",
        "  assert yd.shape == (10, )\n",
        "  print(\"Test passed\")"
      ],
      "execution_count": null,
      "outputs": [
        {
          "output_type": "stream",
          "text": [
            "Test passed\n"
          ],
          "name": "stdout"
        }
      ]
    },
    {
      "cell_type": "markdown",
      "metadata": {
        "id": "OArMS_O4Rlcu",
        "colab_type": "text"
      },
      "source": [
        "##2. Training\n",
        "We will now define a linear model to estimate the above function, and it will train with all the data."
      ]
    },
    {
      "cell_type": "markdown",
      "metadata": {
        "id": "XWRLIaDRR1Fm",
        "colab_type": "text"
      },
      "source": [
        "### 2.1 \n",
        "Define model\n",
        "$y = w_0 + \\sum_{d=1}^D w_d sin(\\frac{d\\pi x}{2}) + \\sum_{d=D+1}^{2D} w_d cos(\\frac{(d - D)\\pi x}{2})$, here, $D$ is the degree of the model, say D=2 <br />\n",
        "\n",
        "In matrix representation: y = Aw <br/>"
      ]
    },
    {
      "cell_type": "code",
      "metadata": {
        "id": "oNZ8y0UTN2zs",
        "colab_type": "code",
        "colab": {}
      },
      "source": [
        "def createA(x, D):\n",
        "    '''\n",
        "    Create the matrix A with degree D\n",
        "    Input:\n",
        "        x: np array of shape (N,)\n",
        "        D: degree of the model\n",
        "    Output:\n",
        "        A: np matrix of shape (N,2D+1)\n",
        "    '''\n",
        "    N=len(x)\n",
        "    A=np.zeros((N,int(2*D+1)))\n",
        "    for i in range(0,N):\n",
        "      for j in range(0,int(2*D+1)):\n",
        "        if(j<(D+1) and j!=0):\n",
        "          A[i][j]=np.sin(j*math.pi*x[i]/2)\n",
        "        elif(j>=(D+1) and j!=0):\n",
        "          A[i][j]=np.cos((j-D)*math.pi*x[i]/2)\n",
        "        else:\n",
        "          A[i][j]=1\n",
        "    return A"
      ],
      "execution_count": null,
      "outputs": []
    },
    {
      "cell_type": "code",
      "metadata": {
        "id": "0NWK4lRg8OKU",
        "colab_type": "code",
        "colab": {
          "base_uri": "https://localhost:8080/",
          "height": 35
        },
        "outputId": "0f4ae577-3428-4376-a6f1-ef16bf0b9fcf"
      },
      "source": [
        "\"\"\"Testing code\"\"\"\n",
        "if __name__ == \"__main__\":\n",
        "  x = np.arange(10)\n",
        "  A = createA(x, 2)\n",
        "  assert A.shape == (x.shape[0], 5)\n",
        "  print(\"Test passed\")"
      ],
      "execution_count": null,
      "outputs": [
        {
          "output_type": "stream",
          "text": [
            "Test passed\n"
          ],
          "name": "stdout"
        }
      ]
    },
    {
      "cell_type": "markdown",
      "metadata": {
        "id": "dOt69npU4xSG",
        "colab_type": "text"
      },
      "source": [
        "###2.2 Estimate weights\n",
        "Train using least-square solution (pseudo-inverse) and min-norm solution that are used to train linear models."
      ]
    },
    {
      "cell_type": "code",
      "metadata": {
        "id": "FzUi6s6G4-6A",
        "colab_type": "code",
        "colab": {}
      },
      "source": [
        "def train_w(A, yd):\n",
        "    '''\n",
        "    Inputs:\n",
        "        A: np array of shape (N,2D+1)\n",
        "        yd: np array of shape (N,)\n",
        "    Output:\n",
        "        w: np array of shape (2D+1,)\n",
        "    '''\n",
        "    yd = np.arange(10)\n",
        "    A = np.random.random(50).reshape(10, 5)\n",
        "    At=np.transpose(A)\n",
        "    A_inv=np.matmul(np.linalg.inv(np.matmul(At,A)),At)\n",
        "    w=np.matmul(A_inv,yd)\n",
        "    min_=np.amin(w)\n",
        "    max_=np.amax(w)\n",
        "    for i in range (0,len(w)):\n",
        "      w[i]=(w[i]-min_)/(max_-min_)\n",
        "    return(w)\n"
      ],
      "execution_count": null,
      "outputs": []
    },
    {
      "cell_type": "code",
      "metadata": {
        "id": "Ehdh_wGu8wY0",
        "colab_type": "code",
        "colab": {
          "base_uri": "https://localhost:8080/",
          "height": 35
        },
        "outputId": "e9c57e44-3032-4a13-f082-e9e62bbcfb04"
      },
      "source": [
        "\"\"\"Testing code\"\"\"\n",
        "if __name__ == \"__main__\":\n",
        "  yd = np.arange(10)\n",
        "  A = np.random.random(50).reshape(10, 5)  \n",
        "  w = train_w(A, yd)\n",
        "  assert w.shape == (5, )\n",
        "  print(\"Test passed\")"
      ],
      "execution_count": null,
      "outputs": [
        {
          "output_type": "stream",
          "text": [
            "Test passed\n"
          ],
          "name": "stdout"
        }
      ]
    },
    {
      "cell_type": "markdown",
      "metadata": {
        "id": "l9_Z8L3RKBPn",
        "colab_type": "text"
      },
      "source": [
        "###3 Estimate y from the model, given x and w"
      ]
    },
    {
      "cell_type": "code",
      "metadata": {
        "nbgrader": {
          "grade": false,
          "grade_id": "cell-18a403e9e2d75c54",
          "locked": false,
          "schema_version": 1,
          "solution": true
        },
        "id": "AIFYMCMlKBPo",
        "colab_type": "code",
        "colab": {}
      },
      "source": [
        "def predict_y(w, x):\n",
        "    '''\n",
        "    Inputs:\n",
        "        w: np array of shape (2D+1,)\n",
        "        x: np array of shape (N,)\n",
        "    Outputs:\n",
        "        y: np array of shape (N,); y=Aw\n",
        "    '''\n",
        "    D=(len(w)-1)/2\n",
        "    A=createA(x,D)\n",
        "    y=np.matmul(A,w)\n",
        "\n",
        "    return y"
      ],
      "execution_count": null,
      "outputs": []
    },
    {
      "cell_type": "code",
      "metadata": {
        "id": "x69CSYoi-2Qf",
        "colab_type": "code",
        "colab": {
          "base_uri": "https://localhost:8080/",
          "height": 35
        },
        "outputId": "3f998a75-1ecb-41dd-a194-eddc8c38be5e"
      },
      "source": [
        "\"\"\"Testing code\"\"\"\n",
        "if __name__ == \"__main__\":\n",
        "  w = np.arange(5)\n",
        "  x = np.arange(10)\n",
        "  y = predict_y(w, x)\n",
        "  assert y.shape[0] == x.shape[0]\n",
        "  print(\"Test passed\")"
      ],
      "execution_count": null,
      "outputs": [
        {
          "output_type": "stream",
          "text": [
            "Test passed\n"
          ],
          "name": "stdout"
        }
      ]
    },
    {
      "cell_type": "markdown",
      "metadata": {
        "id": "Sqjpd9JWKBPv",
        "colab_type": "text"
      },
      "source": [
        "###4. Estimate Error\n",
        "Find E as the mean squared error"
      ]
    },
    {
      "cell_type": "code",
      "metadata": {
        "nbgrader": {
          "grade": false,
          "grade_id": "cell-430f96298f1ea137",
          "locked": false,
          "schema_version": 1,
          "solution": true
        },
        "id": "k50lysAcKBPw",
        "colab_type": "code",
        "colab": {}
      },
      "source": [
        "def compute_mse(y, yd):\n",
        "    '''\n",
        "    Inputs:\n",
        "        y: np array of shape (N,); y=Aw\n",
        "        yd: np array of shape (N,); yd=f(x), ie., desired or true value\n",
        "    Output:\n",
        "        mse: float, mean squared error\n",
        "    '''\n",
        "    n=len(y)\n",
        "    diff_sum=0\n",
        "    for i in range(0,n):\n",
        "      diff_sum+=((yd[i]-y[i])**2)\n",
        "    mse=(diff_sum/n)\n",
        "    return mse"
      ],
      "execution_count": null,
      "outputs": []
    },
    {
      "cell_type": "code",
      "metadata": {
        "id": "DMByOXJn_FX_",
        "colab_type": "code",
        "colab": {
          "base_uri": "https://localhost:8080/",
          "height": 35
        },
        "outputId": "e80f1a10-fbf4-418e-d23e-d6335103c529"
      },
      "source": [
        "\"\"\"Testing code\"\"\"\n",
        "if __name__ == \"__main__\":\n",
        "  y = np.arange(3)\n",
        "  yd = np.arange(30, 33)\n",
        "  mse = compute_mse(y, yd)\n",
        "  assert mse/mse == 1.0\n",
        "  print(\"Test passed\")"
      ],
      "execution_count": null,
      "outputs": [
        {
          "output_type": "stream",
          "text": [
            "Test passed\n"
          ],
          "name": "stdout"
        }
      ]
    },
    {
      "cell_type": "markdown",
      "metadata": {
        "id": "5zGV1TDQ5iEb",
        "colab_type": "text"
      },
      "source": [
        "##5. Train and Test\n",
        "Write a function that takes parameters N, D and:\n",
        "- Generates N training points x, yd\n",
        "- Train your linear model using x and yd\n",
        "- Predict y (using the linear model you found above) for the training data x\n",
        "- Compare y with yd to find the mean-squared error"
      ]
    },
    {
      "cell_type": "markdown",
      "metadata": {
        "id": "mfjcbjdf6QhG",
        "colab_type": "text"
      },
      "source": [
        "###5.1 Generate and Train"
      ]
    },
    {
      "cell_type": "code",
      "metadata": {
        "id": "rkZV_i9rXICz",
        "colab_type": "code",
        "colab": {}
      },
      "source": [
        "def trainModel(N, D):\n",
        "    '''\n",
        "    Inputs:\n",
        "        N: number of samples\n",
        "        D: degree of the model\n",
        "    Outputs:\n",
        "        x: np array of size (N,)\n",
        "        y: np array of size (N,)\n",
        "        yd: np array of size (N,)\n",
        "        w: np array of size (2D+1,)\n",
        "        mse: scalar float\n",
        "    '''\n",
        "    x,yd=generate_points(N)\n",
        "    A=createA(x,D)\n",
        "    w=train_w(A,yd)\n",
        "    y=predict_y(w,x)\n",
        "    mse=compute_mse(y,yd)\n",
        "\n",
        "\n",
        "    return x, y, yd, w, mse"
      ],
      "execution_count": null,
      "outputs": []
    },
    {
      "cell_type": "code",
      "metadata": {
        "id": "hXWQkAvDAuN9",
        "colab_type": "code",
        "colab": {
          "base_uri": "https://localhost:8080/",
          "height": 35
        },
        "outputId": "346e4d1f-c787-48f4-ea21-f16674b680fa"
      },
      "source": [
        "\"\"\"Testing code\"\"\"\n",
        "if __name__ == \"__main__\":\n",
        "  x, y, yd, w, mse = trainModel(10, 2)\n",
        "  assert x.shape[0] == 10\n",
        "  assert y.shape[0] == 10\n",
        "  assert yd.shape[0] == 10\n",
        "  assert w.shape[0] == 5\n",
        "  assert mse/mse == 1.0\n",
        "  print(\"Tests passed\")"
      ],
      "execution_count": null,
      "outputs": [
        {
          "output_type": "stream",
          "text": [
            "Tests passed\n"
          ],
          "name": "stdout"
        }
      ]
    },
    {
      "cell_type": "markdown",
      "metadata": {
        "id": "nWeDnuZR6q-K",
        "colab_type": "text"
      },
      "source": [
        "###5.2 Test\n",
        "Write a function which takes parameters Ntest, w and does the following:\n",
        "\n",
        "- Generates Ntest test points x, yd\n",
        "- Estimate y using the linear model w \n",
        "- Compare y with yd to find the mean-squared error"
      ]
    },
    {
      "cell_type": "code",
      "metadata": {
        "id": "oD21vteC6t7E",
        "colab_type": "code",
        "colab": {}
      },
      "source": [
        "def testModel(Ntest, w):\n",
        "    '''\n",
        "    Inputs:\n",
        "        Ntest: number of test samples to be generated\n",
        "        w: np array of size (2*D+1,)\n",
        "    Outputs:\n",
        "        x: np array of size (N,)\n",
        "        y: np array of size (N,)\n",
        "        yd: np array of size (N,)\n",
        "        mse: scalar float\n",
        "    '''\n",
        "    x,yd=generate_points(Ntest)\n",
        "    y=predict_y(w,x)\n",
        "    mse=compute_mse(y,yd)\n",
        "    return x, y, yd, mse"
      ],
      "execution_count": null,
      "outputs": []
    },
    {
      "cell_type": "code",
      "metadata": {
        "id": "LzrtTf3pEUfM",
        "colab_type": "code",
        "colab": {
          "base_uri": "https://localhost:8080/",
          "height": 35
        },
        "outputId": "b5b68357-5705-4b6c-e362-e012f2008773"
      },
      "source": [
        "\"\"\"Testing code\"\"\"\n",
        "if __name__ == \"__main__\":\n",
        "  x, y, yd, mse = testModel(10, np.arange(5))\n",
        "  assert x.shape[0] == 10\n",
        "  assert y.shape[0] == 10\n",
        "  assert yd.shape[0] == 10\n",
        "  assert mse/mse == 1.0\n",
        "  print(\"Tests passed\")"
      ],
      "execution_count": null,
      "outputs": [
        {
          "output_type": "stream",
          "text": [
            "Tests passed\n"
          ],
          "name": "stdout"
        }
      ]
    }
  ]
}